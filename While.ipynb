{
 "metadata": {
  "language_info": {
   "codemirror_mode": {
    "name": "ipython",
    "version": 3
   },
   "file_extension": ".py",
   "mimetype": "text/x-python",
   "name": "python",
   "nbconvert_exporter": "python",
   "pygments_lexer": "ipython3",
   "version": 3
  },
  "orig_nbformat": 2,
  "kernelspec": {
   "name": "python_defaultSpec_1596045351266",
   "display_name": "Python 3.8.3 32-bit"
  }
 },
 "nbformat": 4,
 "nbformat_minor": 2,
 "cells": [
  {
   "cell_type": "code",
   "execution_count": 6,
   "metadata": {
    "tags": []
   },
   "outputs": [
    {
     "output_type": "stream",
     "name": "stdout",
     "text": "sample.txt possui 8 linhas.\n"
    }
   ],
   "source": [
    "nome_do_arquivo = input(\"Insira o nome do arquivo: \")\n",
    "arquivo = open(nome_do_arquivo, \"r\")\n",
    "n_linhas = 0\n",
    "poema = arquivo.readline().rstrip()\n",
    "while poema != \"FIM\":\n",
    "    n_linhas = n_linhas + 1\n",
    "    poema = arquivo.readline().rstrip()\n",
    "print(nome_do_arquivo + \" possui \" + str(n_linhas) + \" linhas.\")\n",
    "arquivo.close()"
   ]
  },
  {
   "cell_type": "code",
   "execution_count": 23,
   "metadata": {
    "tags": []
   },
   "outputs": [
    {
     "output_type": "stream",
     "name": "stdout",
     "text": "y(0) = 1\ny(1) = 3\ny(2) = 5\ny(3) = 7\ny(4) = 9\ny(5) = 11\n"
    }
   ],
   "source": [
    "def y_x(x):\n",
    "    for i in range(x + 1):\n",
    "        a = (2 * i) + 1\n",
    "        print(f'y({i}) = {a}')\n",
    "\n",
    "y_x(5)\n"
   ]
  },
  {
   "cell_type": "code",
   "execution_count": 11,
   "metadata": {},
   "outputs": [],
   "source": [
    "def funcao():\n",
    "    var = 300\n",
    "    return var + 1"
   ]
  },
  {
   "cell_type": "code",
   "execution_count": 12,
   "metadata": {
    "tags": []
   },
   "outputs": [
    {
     "output_type": "execute_result",
     "data": {
      "text/plain": "301"
     },
     "metadata": {},
     "execution_count": 12
    }
   ],
   "source": [
    "funcao()"
   ]
  },
  {
   "cell_type": "code",
   "execution_count": null,
   "metadata": {},
   "outputs": [],
   "source": []
  }
 ]
}