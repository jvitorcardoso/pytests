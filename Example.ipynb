{
 "metadata": {
  "language_info": {
   "codemirror_mode": {
    "name": "ipython",
    "version": 3
   },
   "file_extension": ".py",
   "mimetype": "text/x-python",
   "name": "python",
   "nbconvert_exporter": "python",
   "pygments_lexer": "ipython3",
   "version": 3
  },
  "orig_nbformat": 2,
  "kernelspec": {
   "name": "python_defaultSpec_1595376188731",
   "display_name": "Python 3.8.3 32-bit"
  }
 },
 "nbformat": 4,
 "nbformat_minor": 2,
 "cells": [
  {
   "cell_type": "code",
   "execution_count": 4,
   "metadata": {
    "tags": []
   },
   "outputs": [
    {
     "output_type": "stream",
     "name": "stdout",
     "text": "Save!\n"
    }
   ],
   "source": [
    "print(\"Save!\")"
   ]
  },
  {
   "cell_type": "code",
   "execution_count": 9,
   "metadata": {
    "tags": []
   },
   "outputs": [
    {
     "output_type": "stream",
     "name": "stdout",
     "text": "IF\n"
    },
    {
     "output_type": "execute_result",
     "data": {
      "text/plain": "600"
     },
     "metadata": {},
     "execution_count": 9
    }
   ],
   "source": [
    "def funcao_1(num1, num2):\n",
    "    resultado = num1 * num2\n",
    "    if resultado <= 1000:\n",
    "        print(\"IF\")\n",
    "        return resultado\n",
    "    else:\n",
    "        print(\"ELSE\")\n",
    "        return num1 + num2\n",
    "\n",
    "funcao_1(20, 30)"
   ]
  },
  {
   "cell_type": "code",
   "execution_count": 22,
   "metadata": {
    "tags": []
   },
   "outputs": [
    {
     "output_type": "stream",
     "name": "stdout",
     "text": "Numero A 0 Numero B 0 Resultado:  0\nNumero A 1 Numero B 0 Resultado:  1\nNumero A 2 Numero B 1 Resultado:  3\nNumero A 3 Numero B 2 Resultado:  5\nNumero A 4 Numero B 3 Resultado:  7\nNumero A 5 Numero B 4 Resultado:  9\nNumero A 6 Numero B 5 Resultado:  11\nNumero A 7 Numero B 6 Resultado:  13\nNumero A 8 Numero B 7 Resultado:  15\nNumero A 9 Numero B 8 Resultado:  17\n"
    }
   ],
   "source": [
    "def funcao_2(num):\n",
    "    numero_anterior = 0\n",
    "    for i in range(num):\n",
    "        resultado = numero_anterior + i\n",
    "        print(\"Numero A\", i, \"Numero B\", numero_anterior, \"Resultado: \", resultado)\n",
    "        numero_anterior = i\n",
    "\n",
    "funcao_2(10)"
   ]
  },
  {
   "cell_type": "code",
   "execution_count": 14,
   "metadata": {
    "tags": []
   },
   "outputs": [
    {
     "output_type": "stream",
     "name": "stdout",
     "text": "Valor passado  [10, 20, 30, 40, 10]\n"
    },
    {
     "output_type": "execute_result",
     "data": {
      "text/plain": "True"
     },
     "metadata": {},
     "execution_count": 14
    }
   ],
   "source": [
    "def funcao_4(lista_numerica):\n",
    "    print(\"Valor passado \", lista_numerica)\n",
    "    a = lista_numerica[0]\n",
    "    b = lista_numerica[-1]\n",
    "    if (a == b):\n",
    "        return True\n",
    "    else:\n",
    "        return False\n",
    "\n",
    "funcao_4([10, 20, 30, 40, 10])"
   ]
  },
  {
   "cell_type": "code",
   "execution_count": 24,
   "metadata": {
    "tags": []
   },
   "outputs": [
    {
     "output_type": "stream",
     "name": "stdout",
     "text": "18\n"
    }
   ],
   "source": [
    "class Classe_1:\n",
    "    def funcao_da_classe_1(self, string):\n",
    "        dicionario = {'I': 1, 'V': 5, 'X': 10, 'L': 50, 'C': 100, 'D': 500, 'M': 1000}\n",
    "        valor = 0\n",
    "        for i in range(len(string)):\n",
    "            if i > 0 and dicionario[string[i]] > dicionario[string[i - 1]]:\n",
    "                valor += dicionario[string[i]] - 2 * dicionario[string[i - 1]]\n",
    "            else:\n",
    "                valor += dicionario[string[i]]\n",
    "        return valor\n",
    "\n",
    "print(Classe_1.funcao_da_classe_1('L', 'XVIII'))"
   ]
  },
  {
   "cell_type": "code",
   "execution_count": 13,
   "metadata": {},
   "outputs": [
    {
     "output_type": "error",
     "ename": "NameError",
     "evalue": "name 'B' is not defined",
     "traceback": [
      "\u001b[1;31m---------------------------------------------------------------------------\u001b[0m",
      "\u001b[1;31mNameError\u001b[0m                                 Traceback (most recent call last)",
      "\u001b[1;32m<ipython-input-13-4c649cc36a77>\u001b[0m in \u001b[0;36m<module>\u001b[1;34m\u001b[0m\n\u001b[0;32m     14\u001b[0m             \u001b[0mself\u001b[0m\u001b[1;33m.\u001b[0m\u001b[0mi\u001b[0m \u001b[1;33m=\u001b[0m \u001b[1;36m3\u001b[0m \u001b[1;33m*\u001b[0m \u001b[0mi\u001b[0m\u001b[1;33m;\u001b[0m\u001b[1;33m\u001b[0m\u001b[1;33m\u001b[0m\u001b[0m\n\u001b[0;32m     15\u001b[0m \u001b[1;33m\u001b[0m\u001b[0m\n\u001b[1;32m---> 16\u001b[1;33m \u001b[0mb\u001b[0m \u001b[1;33m=\u001b[0m \u001b[0mB\u001b[0m\u001b[1;33m(\u001b[0m\u001b[1;33m)\u001b[0m\u001b[1;33m\u001b[0m\u001b[1;33m\u001b[0m\u001b[0m\n\u001b[0m",
      "\u001b[1;31mNameError\u001b[0m: name 'B' is not defined"
     ]
    }
   ],
   "source": [
    "class Classe_1():\n",
    "    def __init__(self):\n",
    "        self.calcI(30)\n",
    "        print(\"i da Classe A\", self.i)\n",
    "\n",
    "    def calcI(self, i):\n",
    "        self.i = 2 * i\n",
    "    \n",
    "    class B(Classe_1):\n",
    "        def __init__(self):\n",
    "            super().__init__()\n",
    "\n",
    "        def calcI(self, i):\n",
    "            self.i = 3 * i\n",
    "\n",
    "b = B()"
   ]
  },
  {
   "cell_type": "code",
   "execution_count": 26,
   "metadata": {},
   "outputs": [
    {
     "output_type": "execute_result",
     "data": {
      "text/plain": "120"
     },
     "metadata": {},
     "execution_count": 26
    }
   ],
   "source": [
    "class Classe_2():\n",
    "    def __init__(self, l, w):\n",
    "        self.a = l\n",
    "        self.b = w\n",
    "\n",
    "    def metodo_1(self):\n",
    "        return self.a * self.b\n",
    "\n",
    "objeto_1 = Classe_2(12, 10)\n",
    "objeto_1.metodo_1()"
   ]
  },
  {
   "cell_type": "code",
   "execution_count": null,
   "metadata": {},
   "outputs": [],
   "source": []
  }
 ]
}