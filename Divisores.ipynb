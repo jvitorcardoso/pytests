{
 "metadata": {
  "language_info": {
   "codemirror_mode": {
    "name": "ipython",
    "version": 3
   },
   "file_extension": ".py",
   "mimetype": "text/x-python",
   "name": "python",
   "nbconvert_exporter": "python",
   "pygments_lexer": "ipython3",
   "version": 3
  },
  "orig_nbformat": 2,
  "kernelspec": {
   "name": "python_defaultSpec_1596073873188",
   "display_name": "Python 3.6.2 32-bit"
  }
 },
 "nbformat": 4,
 "nbformat_minor": 2,
 "cells": [
  {
   "cell_type": "code",
   "execution_count": 6,
   "metadata": {},
   "outputs": [],
   "source": [
    "def verifica_divisibilidade(x, y):\n",
    "    return int(x) % int(y) == 0"
   ]
  },
  {
   "cell_type": "code",
   "execution_count": 7,
   "metadata": {},
   "outputs": [],
   "source": [
    "def elementos_divisiveis(x, lista):\n",
    "    resultado = []\n",
    "\n",
    "    for elemento in lista:\n",
    "        if verifica_divisibilidade(elemento, x):\n",
    "            resultado.append(elemento)\n",
    "    \n",
    "    return resultado"
   ]
  },
  {
   "cell_type": "code",
   "execution_count": 9,
   "metadata": {},
   "outputs": [],
   "source": [
    "def divisores_em_lista(lista):\n",
    "    for elemento in lista:\n",
    "        print(elemento, \"é divisível por\", end = \" \")\n",
    "        elementos = elementos_divisiveis(elemento, lista)\n",
    "        for f in elementos:\n",
    "            print(f, end = \" \")\n",
    "        print()"
   ]
  },
  {
   "cell_type": "code",
   "execution_count": 19,
   "metadata": {
    "tags": []
   },
   "outputs": [
    {
     "output_type": "stream",
     "name": "stdout",
     "text": "2 é divisível por 2 4 6 8 10 12 14 16 18 20 22 24 26 28 30 32 34 36 38 40 42 44 46 48 50 \n3 é divisível por 3 6 9 12 15 18 21 24 27 30 33 36 39 42 45 48 \n4 é divisível por 4 8 12 16 20 24 28 32 36 40 44 48 \n5 é divisível por 5 10 15 20 25 30 35 40 45 50 \n6 é divisível por 6 12 18 24 30 36 42 48 \n7 é divisível por 7 14 21 28 35 42 49 \n8 é divisível por 8 16 24 32 40 48 \n9 é divisível por 9 18 27 36 45 \n10 é divisível por 10 20 30 40 50 \n11 é divisível por 11 22 33 44 \n12 é divisível por 12 24 36 48 \n13 é divisível por 13 26 39 \n14 é divisível por 14 28 42 \n15 é divisível por 15 30 45 \n16 é divisível por 16 32 48 \n17 é divisível por 17 34 \n18 é divisível por 18 36 \n19 é divisível por 19 38 \n20 é divisível por 20 40 \n21 é divisível por 21 42 \n22 é divisível por 22 44 \n23 é divisível por 23 46 \n24 é divisível por 24 48 \n25 é divisível por 25 50 \n26 é divisível por 26 \n27 é divisível por 27 \n28 é divisível por 28 \n29 é divisível por 29 \n30 é divisível por 30 \n31 é divisível por 31 \n32 é divisível por 32 \n33 é divisível por 33 \n34 é divisível por 34 \n35 é divisível por 35 \n36 é divisível por 36 \n37 é divisível por 37 \n38 é divisível por 38 \n39 é divisível por 39 \n40 é divisível por 40 \n41 é divisível por 41 \n42 é divisível por 42 \n43 é divisível por 43 \n44 é divisível por 44 \n45 é divisível por 45 \n46 é divisível por 46 \n47 é divisível por 47 \n48 é divisível por 48 \n49 é divisível por 49 \n50 é divisível por 50 \n"
    }
   ],
   "source": [
    "s = input(\"Entre com uma sequência de valores separados por espaço: \")\n",
    "lista_valores = []\n",
    "for x in s.split():\n",
    "    lista_valores.append(int(x))\n",
    "divisores_em_lista(lista_valores)"
   ]
  },
  {
   "cell_type": "code",
   "execution_count": null,
   "metadata": {},
   "outputs": [],
   "source": []
  }
 ]
}