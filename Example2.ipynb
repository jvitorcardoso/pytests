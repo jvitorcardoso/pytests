{
 "metadata": {
  "language_info": {
   "codemirror_mode": {
    "name": "ipython",
    "version": 3
   },
   "file_extension": ".py",
   "mimetype": "text/x-python",
   "name": "python",
   "nbconvert_exporter": "python",
   "pygments_lexer": "ipython3",
   "version": 3
  },
  "orig_nbformat": 2,
  "kernelspec": {
   "name": "python_defaultSpec_1596046779846",
   "display_name": "Python 3.8.3 32-bit"
  }
 },
 "nbformat": 4,
 "nbformat_minor": 2,
 "cells": [
  {
   "cell_type": "code",
   "execution_count": 18,
   "metadata": {},
   "outputs": [
    {
     "output_type": "execute_result",
     "data": {
      "text/plain": "8398"
     },
     "metadata": {},
     "execution_count": 18
    }
   ],
   "source": [
    "def funcao_1(num1, num2):\n",
    "    resultado = num1 * num2\n",
    "    return resultado\n",
    "\n",
    "funcao_1(34, 247)"
   ]
  },
  {
   "cell_type": "code",
   "execution_count": 25,
   "metadata": {},
   "outputs": [
    {
     "output_type": "execute_result",
     "data": {
      "text/plain": "10"
     },
     "metadata": {},
     "execution_count": 25
    }
   ],
   "source": [
    "def funcao_2(num):\n",
    "    numero_anterior = 0\n",
    "    for i in range(1, num):\n",
    "        resultado = numero_anterior + i\n",
    "        numero_anterior = resultado\n",
    "    return resultado\n",
    "\n",
    "funcao_2(5)"
   ]
  },
  {
   "cell_type": "code",
   "execution_count": 49,
   "metadata": {},
   "outputs": [],
   "source": [
    "def verifica(x, y):\n",
    "    y_verif_x = False\n",
    "\n",
    "    if x % y == 0:\n",
    "        y_verif_x = True\n",
    "        \n",
    "    return y_verif_x"
   ]
  },
  {
   "cell_type": "code",
   "execution_count": 50,
   "metadata": {
    "tags": []
   },
   "outputs": [
    {
     "output_type": "stream",
     "name": "stdout",
     "text": "70 é múltiplo de 2.\n"
    }
   ],
   "source": [
    "x = int(input(\"Primeiro número: \"))\n",
    "y = int(input(\"Segundo número: \"))\n",
    "\n",
    "if verifica(x, y):\n",
    "    if x > y:\n",
    "        print(f'{x} é múltiplo de {y}.')\n",
    "    else:\n",
    "        print(f'{y} é múltiplo de {x}.')\n",
    "else:\n",
    "    if x > y:\n",
    "        print(f'{x} não é múltiplo de {y}.')\n",
    "    else:\n",
    "        print(f'{y} não é múltiplo de {x}.')"
   ]
  },
  {
   "cell_type": "code",
   "execution_count": null,
   "metadata": {},
   "outputs": [],
   "source": []
  }
 ]
}